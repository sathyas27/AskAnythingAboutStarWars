{
 "cells": [
  {
   "cell_type": "code",
   "execution_count": null,
   "id": "fd652956",
   "metadata": {
    "scrolled": false
   },
   "outputs": [],
   "source": [
    "!pip install langchain\n",
    "!pip install pinecone-client\n",
    "!pip install openai"
   ]
  },
  {
   "cell_type": "code",
   "execution_count": null,
   "id": "06cdfa3b",
   "metadata": {},
   "outputs": [],
   "source": [
    "!pip install \"unstructured[all-docs]\""
   ]
  },
  {
   "cell_type": "code",
   "execution_count": null,
   "id": "82feb533",
   "metadata": {},
   "outputs": [],
   "source": [
    "from langchain.document_loaders import UnstructuredFileLoader\n",
    "from langchain.text_splitter import RecursiveCharacterTextSplitter"
   ]
  },
  {
   "cell_type": "code",
   "execution_count": null,
   "id": "e2d6bb00",
   "metadata": {},
   "outputs": [],
   "source": [
    "OPENAI_API_KEY = 'openai_api_key'\n",
    "loader = UnstructuredFileLoader('/Users/sathyaselvam/Downloads/revengeofthesith.pdf/', mode=\"elements\")"
   ]
  },
  {
   "cell_type": "code",
   "execution_count": null,
   "id": "5f5e1aa6",
   "metadata": {},
   "outputs": [],
   "source": [
    "data = loader.load()"
   ]
  },
  {
   "cell_type": "code",
   "execution_count": null,
   "id": "a3ba7936",
   "metadata": {},
   "outputs": [],
   "source": [
    "print(f'You have {len(data)} document(s) in your data')\n",
    "print(f'There are {len(data[0].page_content)} characters in your data')"
   ]
  },
  {
   "cell_type": "code",
   "execution_count": null,
   "id": "65da6e59",
   "metadata": {},
   "outputs": [],
   "source": [
    "text_splitter = RecursiveCharacterTextSplitter(chunk_size = 7000, chunk_overlap = 0)\n",
    "texts = text_splitter.split_documents(data)"
   ]
  },
  {
   "cell_type": "code",
   "execution_count": null,
   "id": "c60e36b2",
   "metadata": {},
   "outputs": [],
   "source": [
    "print(f'You have {len(texts)} document(s) in your data')\n",
    "print(texts)"
   ]
  },
  {
   "cell_type": "code",
   "execution_count": null,
   "id": "d3f023b4",
   "metadata": {},
   "outputs": [],
   "source": [
    "from langchain.vectorstores import Pinecone\n",
    "from langchain.embeddings.openai import OpenAIEmbeddings\n",
    "import pinecone"
   ]
  },
  {
   "cell_type": "code",
   "execution_count": null,
   "id": "a74d9910",
   "metadata": {},
   "outputs": [],
   "source": [
    "embeddings = OpenAIEmbeddings(openai_api_key = OPENAI_API_KEY)"
   ]
  },
  {
   "cell_type": "code",
   "execution_count": null,
   "id": "660d76a1",
   "metadata": {},
   "outputs": [],
   "source": [
    "PINECONE_API_KEY = 'pinecone_api_key'\n",
    "pinecone.init(\n",
    "    api_key = PINECONE_API_KEY,\n",
    "    environment = 'northamerica-northeast1-gcp'\n",
    ")\n",
    "index_name = 'index1'"
   ]
  },
  {
   "cell_type": "code",
   "execution_count": null,
   "id": "32175951",
   "metadata": {},
   "outputs": [],
   "source": [
    "docsearch = Pinecone.from_texts([t.page_content for t in texts], embeddings, index_name = index_name)"
   ]
  },
  {
   "cell_type": "code",
   "execution_count": null,
   "id": "d4dd7784",
   "metadata": {},
   "outputs": [],
   "source": [
    "from langchain.llms import OpenAI\n",
    "from langchain.chains.question_answering import load_qa_chain"
   ]
  },
  {
   "cell_type": "code",
   "execution_count": null,
   "id": "4f80852c",
   "metadata": {},
   "outputs": [],
   "source": [
    "llm = OpenAI(temperature = 0.9, openai_api_key = OPENAI_API_KEY)\n",
    "chain = load_qa_chain(llm, chain_type='stuff', verbose = True)"
   ]
  },
  {
   "cell_type": "code",
   "execution_count": null,
   "id": "35cd9385",
   "metadata": {},
   "outputs": [],
   "source": [
    "query = \"Who is Obi-wan Kenobi\"\n",
    "docs = docsearch.similarity_search(query)"
   ]
  },
  {
   "cell_type": "code",
   "execution_count": null,
   "id": "d6df9954",
   "metadata": {},
   "outputs": [],
   "source": [
    "chain.run(input_documents=docs, question=query)"
   ]
  }
 ],
 "metadata": {
  "kernelspec": {
   "display_name": "Python 3 (ipykernel)",
   "language": "python",
   "name": "python3"
  },
  "language_info": {
   "codemirror_mode": {
    "name": "ipython",
    "version": 3
   },
   "file_extension": ".py",
   "mimetype": "text/x-python",
   "name": "python",
   "nbconvert_exporter": "python",
   "pygments_lexer": "ipython3",
   "version": "3.10.9"
  }
 },
 "nbformat": 4,
 "nbformat_minor": 5
}
